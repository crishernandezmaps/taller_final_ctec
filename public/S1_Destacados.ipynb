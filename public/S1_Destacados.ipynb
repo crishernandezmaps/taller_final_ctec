{
 "cells": [
  {
   "cell_type": "markdown",
   "metadata": {},
   "source": [
    "# Section 1: Destacados "
   ]
  },
  {
   "cell_type": "code",
   "execution_count": 1,
   "metadata": {},
   "outputs": [],
   "source": [
    "from header_fun import *\n",
    "\n",
    "def naming_image(x):\n",
    "    return global_dir + \"/img/\" + init_data_name + x + '.png'\n",
    "\n",
    "def naming_file(y):\n",
    "    return global_dir + \"/\" + init_data_name + y + '.json'  \n",
    "\n",
    "## E. Reading Data from API \n",
    "file='Destacados.xlsx'\n",
    "global_dir=\"./data\"\n",
    "norm=False# no normalizada\n",
    "init_data_name=\"Destacado_\"\n",
    "link_data = \"https://smartdata-demo.sfo2.digitaloceanspaces.com/data/Destacados.xlsx\"\n",
    "link_img = \"https://smartdata-demo.sfo2.digitaloceanspaces.com/data/img/\"\n",
    "link_glosario = \"https://smartdata-demo.sfo2.digitaloceanspaces.com/data/\"\n",
    "info_header=[ {\"titulo\":None,\"Fuente\":None, \"LinkDatosOriginales\":None, \n",
    "               \"comment\":None, \"linkPlot\":None,\"glosario\":None}]"
   ]
  },
  {
   "cell_type": "markdown",
   "metadata": {
    "heading_collapsed": true
   },
   "source": [
    "### 1) Destacado_01_PIB_Construccion.json"
   ]
  },
  {
   "cell_type": "code",
   "execution_count": 2,
   "metadata": {
    "hidden": true
   },
   "outputs": [
    {
     "name": "stdout",
     "output_type": "stream",
     "text": [
      "set: None\n",
      "CREATED:  ./data/Destacado_01_PIB_Construccion.json\n"
     ]
    }
   ],
   "source": [
    "sheetname = 'PIB Construcción'\n",
    "full_file_name = '01_PIB_Construccion'\n",
    "info_header[0][\"titulo\"]=\"PIB Construcción ($MM)\"\n",
    "info_header[0][\"Fuente\"]=\"Banco Central\"\n",
    "info_header[0][\"LinkDatosOriginales\"]=link_data\n",
    "info_header[0][\"comment\"]=\"PIB de la Construcción. Banco Central\"\n",
    "info_header[0][\"linkPlot\"]=\"\"\n",
    "info_header[0][\"glosario\"]=\"\"\n",
    "\n",
    "if sheetname=='PIB Construcción':\n",
    "    df = pd.read_excel( file, sheet_name = sheetname )\n",
    "    data=[[\"Construcción\"]]\n",
    "    dataCorto=[[\"PIB Cont.\"]]\n",
    "    for index,lista in enumerate(data):\n",
    "        toolTip_v=[[]]\n",
    "        toolTip_mening=[[]]\n",
    "        reg_name=[\"PAIS\"]\n",
    "        for index2,varname in enumerate(lista):\n",
    "            if index2==0:\n",
    "                varible_v=[varname ]\n",
    "                variable_meaning=[dataCorto[index][index2]]\n",
    "            else:\n",
    "                toolTip_v[0].append(varname)\n",
    "                toolTip_mening[0].append(dataCorto[index][index2])\n",
    "                \n",
    "    jsonDir = DataToJson(df,varible_v,variable_meaning,reg_name, toolTip_v, toolTip_mening)\n",
    "    jsonDir = [info_header,jsonDir ]\n",
    "    name_file= global_dir + \"/\" + init_data_name + full_file_name + '.json'\n",
    "    jsonUTF8 = json.dumps(jsonDir, ensure_ascii=False).encode('utf8')\n",
    "    jsonUTF8 = json.loads(jsonUTF8)\n",
    "    with open(name_file , 'w') as outfile:  \n",
    "        json.dump(jsonUTF8, outfile,ensure_ascii=False)\n",
    "    print(\"CREATED: \", name_file)"
   ]
  },
  {
   "cell_type": "markdown",
   "metadata": {},
   "source": [
    "### 2) Destacado_02_Porc_PIB_Construccion.json"
   ]
  },
  {
   "cell_type": "code",
   "execution_count": 3,
   "metadata": {},
   "outputs": [
    {
     "name": "stdout",
     "output_type": "stream",
     "text": [
      "set: None\n",
      "CREATED:  ./data/Destacado_02_Porc_PIB_Construccion.json\n"
     ]
    }
   ],
   "source": [
    "sheetname = 'PIB Construcción'\n",
    "full_file_name = '02_Porc_PIB_Construccion'\n",
    "info_header[0][\"titulo\"]=\"PIB Contrucción (%)\"\n",
    "info_header[0][\"Fuente\"]=\"Banco Central\"\n",
    "info_header[0][\"LinkDatosOriginales\"] = link_data\n",
    "info_header[0][\"comment\"]=\"Participación del PIB de construcción, % en relación PIB Nacional. Banco Central\"\n",
    "info_header[0][\"linkPlot\"]=\"\"\n",
    "info_header[0][\"glosario\"]=\"\"\n",
    "\n",
    "if sheetname=='PIB Construcción':\n",
    "    df = pd.read_excel( file, sheet_name = sheetname )\n",
    "    data=[[\"porcentaje\"]]\n",
    "    dataCorto=[[\"PIB %\"]]\n",
    "    for index,lista in enumerate(data):\n",
    "        toolTip_v=[[]]\n",
    "        toolTip_mening=[[]]\n",
    "        reg_name=[\"PAIS\"]\n",
    "        for index2,varname in enumerate(lista):\n",
    "            if index2==0:\n",
    "                varible_v=[varname ]\n",
    "                variable_meaning=[dataCorto[index][index2]]\n",
    "            else:\n",
    "                toolTip_v[0].append(varname)\n",
    "                toolTip_mening[0].append(dataCorto[index][index2])\n",
    "                \n",
    "    jsonDir = DataToJson(df,varible_v,variable_meaning,reg_name, toolTip_v, toolTip_mening)\n",
    "    jsonDir = [info_header,jsonDir ]\n",
    "    name_file= global_dir+\"/\" + init_data_name + full_file_name+'.json'\n",
    "    jsonUTF8 = json.dumps(jsonDir, ensure_ascii=False).encode('utf8')\n",
    "    jsonUTF8 = json.loads(jsonUTF8, encoding = 'utf-8')\n",
    "    with open(name_file , 'w') as outfile:\n",
    "        json.dump(jsonUTF8, outfile,ensure_ascii=False)\n",
    "    print(\"CREATED: \", name_file)"
   ]
  },
  {
   "cell_type": "markdown",
   "metadata": {},
   "source": [
    "### 3) Destacado_03_IMACON.json"
   ]
  },
  {
   "cell_type": "code",
   "execution_count": 4,
   "metadata": {},
   "outputs": [
    {
     "name": "stdout",
     "output_type": "stream",
     "text": [
      "set: None\n",
      "CREATED:  ./data/Destacado_03_IMACON.json\n"
     ]
    }
   ],
   "source": [
    "sheetname = \"IMACON\"\n",
    "full_file_name = '03_IMACON'\n",
    "info_header[0][\"titulo\"]='IMACON Variación Mensual'\n",
    "info_header[0][\"Fuente\"]=\"CCHC\"\n",
    "info_header[0][\"LinkDatosOriginales\"] = link_data\n",
    "info_header[0][\"comment\"]=\"Índice Mensual de la Construcción. Variación mensual (%). CChC\"\n",
    "info_header[0][\"linkPlot\"]=\"\"\n",
    "info_header[0][\"glosario\"]=\"\"\n",
    "\n",
    "if sheetname==\"IMACON\":\n",
    "    df = pd.read_excel( file, sheet_name = sheetname )\n",
    "    data=[[\"IMACON varMensual\"]]\n",
    "    dataCorto=[[\"Var Mes\"]]\n",
    "    for index,lista in enumerate(data):\n",
    "        toolTip_v=[[]]\n",
    "        toolTip_mening=[[]]\n",
    "        reg_name=[\"PAIS\"]\n",
    "        for index2,varname in enumerate(lista):\n",
    "            if index2==0:\n",
    "                varible_v=[varname ]\n",
    "                variable_meaning=[dataCorto[index][index2]]\n",
    "            else:\n",
    "                toolTip_v[0].append(varname)\n",
    "                toolTip_mening[0].append(dataCorto[index][index2])\n",
    "                \n",
    "    jsonDir = DataToJson(df,varible_v,variable_meaning,reg_name, toolTip_v, toolTip_mening)\n",
    "    jsonDir = [info_header,jsonDir ]  \n",
    "    name_file= global_dir+\"/\" + init_data_name + full_file_name + '.json'\n",
    "    jsonUTF8 = json.dumps(jsonDir, ensure_ascii=False).encode('utf8')\n",
    "    jsonUTF8 = json.loads(jsonUTF8)\n",
    "    with open(name_file , 'w') as outfile:\n",
    "        json.dump(jsonUTF8, outfile,ensure_ascii=False)    \n",
    "    print(\"CREATED: \", name_file)"
   ]
  },
  {
   "cell_type": "markdown",
   "metadata": {
    "heading_collapsed": true
   },
   "source": [
    "### 4) Destacado_04_Perm_Edificacion_m2.json"
   ]
  },
  {
   "cell_type": "code",
   "execution_count": 5,
   "metadata": {
    "hidden": true
   },
   "outputs": [
    {
     "name": "stdout",
     "output_type": "stream",
     "text": [
      "set: None\n",
      "CREATED:  ./data/Destacado_04_Perm_Edificacion_m2.json\n"
     ]
    }
   ],
   "source": [
    "sheetname = \"m2\"\n",
    "full_file_name = '04_Perm_Edificacion_m2'\n",
    "info_header[0][\"titulo\"]='Permisos Edificación Acumulados a la fecha (m2)'\n",
    "info_header[0][\"Fuente\"]=\"CCHC\"\n",
    "info_header[0][\"LinkDatosOriginales\"]=link_data\n",
    "info_header[0][\"comment\"]=\"Permisos de edificación acumulados a la fecha en m2 total (habitacional y no habitacional). CChC\"\n",
    "info_header[0][\"linkPlot\"]=\"\"\n",
    "info_header[0][\"glosario\"]=\"\"\n",
    "\n",
    "if sheetname==\"m2\":\n",
    "    df = pd.read_excel( file, sheet_name = sheetname )\n",
    "    data=[[\"acumulado Mill. M2\"]]\n",
    "    dataCorto=[[\"m2\"]]\n",
    "    for index,lista in enumerate(data):\n",
    "        toolTip_v=[[]]\n",
    "        toolTip_mening=[[]]\n",
    "        reg_name=[\"PAIS\"]\n",
    "        for index2,varname in enumerate(lista):\n",
    "            if index2==0:\n",
    "                varible_v=[varname ]\n",
    "                variable_meaning=[dataCorto[index][index2]]\n",
    "            else:\n",
    "                toolTip_v[0].append(varname)\n",
    "                toolTip_mening[0].append(dataCorto[index][index2])\n",
    "                \n",
    "    jsonDir = DataToJson(df,varible_v,variable_meaning,reg_name, toolTip_v, toolTip_mening)\n",
    "    jsonDir = [info_header,jsonDir ]\n",
    "    name_file= global_dir+\"/\" + init_data_name + full_file_name + '.json'\n",
    "    jsonUTF8 = json.dumps(jsonDir, ensure_ascii=False).encode('utf8')\n",
    "    jsonUTF8 = json.loads(jsonUTF8)\n",
    "    with open(name_file , 'w') as outfile:  \n",
    "        json.dump(jsonUTF8, outfile,ensure_ascii=False)\n",
    "    print(\"CREATED: \", name_file)"
   ]
  },
  {
   "cell_type": "markdown",
   "metadata": {},
   "source": [
    "### 5) Destacado_05_Por_Certificacion_Sustentable.json"
   ]
  },
  {
   "cell_type": "code",
   "execution_count": 6,
   "metadata": {},
   "outputs": [
    {
     "name": "stdout",
     "output_type": "stream",
     "text": [
      "set: None\n",
      "CREATED:  ./data/Destacado_05_Por_Certificacion_Sustentable.json\n"
     ]
    }
   ],
   "source": [
    "sheetname = \"%_Certificacion\"\n",
    "full_file_name = '05_Por_Certificacion_Sustentable'\n",
    "info_header[0][\"titulo\"]='Edificaciones con Certificación Sustentable (%)'\n",
    "info_header[0][\"Fuente\"]=\"LEED, CES, otros\"\n",
    "info_header[0][\"LinkDatosOriginales\"]=link_data\n",
    "info_header[0][\"comment\"]=\"Edificaciones con Certificación Sustentable, % respecto al total de edificaciones en m2. LEED, CES\"\n",
    "info_header[0][\"linkPlot\"]=\"\"\n",
    "info_header[0][\"glosario\"]=\"\"\n",
    "\n",
    "if sheetname==\"%_Certificacion\":\n",
    "    df = pd.read_excel( file, sheet_name = sheetname )\n",
    "    data=[[\"%\"]]\n",
    "    dataCorto=[[\"Porc.\"]]\n",
    "    for index,lista in enumerate(data):\n",
    "        toolTip_v=[[]]\n",
    "        toolTip_mening=[[]]\n",
    "        reg_name=[\"PAIS\"]\n",
    "        for index2,varname in enumerate(lista):\n",
    "            if index2==0:\n",
    "                varible_v=[varname ]\n",
    "                variable_meaning=[dataCorto[index][index2]]\n",
    "            else:\n",
    "                toolTip_v[0].append(varname)\n",
    "                toolTip_mening[0].append(dataCorto[index][index2])\n",
    "                \n",
    "    jsonDir = DataToJson(df,varible_v,variable_meaning,reg_name, toolTip_v, toolTip_mening)\n",
    "    jsonDir = [info_header,jsonDir ]\n",
    "    name_file= global_dir+\"/\" + init_data_name + full_file_name + '.json'\n",
    "    jsonUTF8 = json.dumps(jsonDir, ensure_ascii=False).encode('utf8')\n",
    "    jsonUTF8 = json.loads(jsonUTF8)\n",
    "    with open(name_file , 'w') as outfile:  \n",
    "        json.dump(jsonUTF8, outfile,ensure_ascii=False)\n",
    "    print(\"CREATED: \", name_file)"
   ]
  },
  {
   "cell_type": "markdown",
   "metadata": {},
   "source": [
    "### 6) Destacado_06_Por_Trabajadores_Empleo_Nacional.json"
   ]
  },
  {
   "cell_type": "code",
   "execution_count": 7,
   "metadata": {
    "scrolled": true
   },
   "outputs": [
    {
     "name": "stdout",
     "output_type": "stream",
     "text": [
      "set: None\n",
      "CREATED:  ./data/Destacado_06_Por_Trabajadores_Empleo_Nacional.json\n"
     ]
    }
   ],
   "source": [
    "sheetname = 'Trabajadores_%_Nacional'\n",
    "full_file_name = '06_Por_Trabajadores_Empleo_Nacional'\n",
    "info_header[0][\"titulo\"]=\"Participación empleo sectorial en total nacional (%)\"\n",
    "info_header[0][\"Fuente\"]=\"NENE del INE y SII\"\n",
    "info_header[0][\"LinkDatosOriginales\"]=link_data\n",
    "info_header[0][\"comment\"]=\"Participación empleo sector construcción en total nacional %. INE y SII\"\n",
    "info_header[0][\"linkPlot\"]=\"\"\n",
    "info_header[0][\"glosario\"]=\"\"\n",
    "\n",
    "if sheetname=='Trabajadores_%_Nacional':\n",
    "    df = pd.read_excel(file, sheet_name=sheetname )\n",
    "    data=[[\"Participacion\"]]\n",
    "    dataCorto=[[\"Porcentaje\"]]\n",
    "    for index,lista in enumerate(data):\n",
    "        toolTip_v=[[]]\n",
    "        toolTip_mening=[[]]\n",
    "        reg_name=[\"PAIS\"]\n",
    "        for index2,varname in enumerate(lista):\n",
    "            if index2==0:\n",
    "                varible_v=[varname ]\n",
    "                variable_meaning=[dataCorto[index][index2]]\n",
    "            else:\n",
    "                toolTip_v[0].append(varname)\n",
    "                toolTip_mening[0].append(dataCorto[index][index2])\n",
    "                \n",
    "    jsonDir = DataToJson(df,varible_v,variable_meaning,reg_name, toolTip_v, toolTip_mening,norm)\n",
    "    jsonDir = [info_header,jsonDir ]\n",
    "    name_file= global_dir + \"/\" + init_data_name + full_file_name + '.json'\n",
    "    jsonUTF8 = json.dumps(jsonDir, ensure_ascii=False).encode('utf8')\n",
    "    jsonUTF8 = json.loads(jsonUTF8)\n",
    "    with open(name_file , 'w') as outfile:  \n",
    "        json.dump(jsonUTF8, outfile,ensure_ascii=False)\n",
    "    print(\"CREATED: \", name_file)"
   ]
  }
 ],
 "metadata": {
  "kernelspec": {
   "display_name": "Python 3",
   "language": "python",
   "name": "python3"
  },
  "language_info": {
   "codemirror_mode": {
    "name": "ipython",
    "version": 3
   },
   "file_extension": ".py",
   "mimetype": "text/x-python",
   "name": "python",
   "nbconvert_exporter": "python",
   "pygments_lexer": "ipython3",
   "version": "3.6.5"
  }
 },
 "nbformat": 4,
 "nbformat_minor": 2
}
